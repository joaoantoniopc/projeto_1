{
  "cells": [
    {
      "cell_type": "markdown",
      "metadata": {
        "id": "view-in-github",
        "colab_type": "text"
      },
      "source": [
        "<a href=\"https://colab.research.google.com/github/joaoantoniopc/projeto_1/blob/main/desafio_detalhamento.ipynb\" target=\"_parent\"><img src=\"https://colab.research.google.com/assets/colab-badge.svg\" alt=\"Open In Colab\"/></a>"
      ]
    },
    {
      "cell_type": "markdown",
      "metadata": {
        "id": "KprKQy5IR1c9"
      },
      "source": [
        "# <font color = blue> Pipeline do\n",
        "\n",
        "\n",
        "\n",
        "1.   Entendimento do Problema de Negócio\n",
        "2.   Análise Exploratória de Dados\n",
        "3.   Processamento dos Dados\n",
        "4.   Análise Exploratória de Dados\n",
        "5.   Análise Exploratória de Dados\n",
        "\n",
        "\n",
        "\n",
        "\n",
        "\n",
        "\n"
      ]
    },
    {
      "cell_type": "markdown",
      "metadata": {
        "id": "ps2kL5h5Pykd"
      },
      "source": [
        "## ![](https://miro.medium.com/v2/resize:fit:679/0*Yb_BsikIKFAtuKj9.gif)\n",
        "\n"
      ]
    },
    {
      "cell_type": "markdown",
      "metadata": {
        "id": "UBdmUt4_SREA"
      },
      "source": [
        "#1° Entendimento do Problema de Negócio\n"
      ]
    },
    {
      "cell_type": "markdown",
      "metadata": {
        "id": "U5kDi8aIWYa_"
      },
      "source": [
        "\n",
        "\n",
        "    1. Fontes de Dados Simuladas: Crie duas fontes de dados simuladas em formato CSV: uma representando dados de vendas (com campos como data, produto, valor) e outra representando dados de clientes (com campos como ID, nome, email).\n",
        "\n",
        "    2. Transformação de Dados: Desenvolva um processo de transformação de dados usando a linguagem de programação de sua escolha (por exemplo, Python ou SQL) para combinar os dados de vendas e clientes com base no ID do cliente. O resultado deve ser uma tabela consolidada com informações relevantes para análise.\n",
        "\n",
        "    3. Data Warehouse Simulado: Modele um esquema simples para um Data Warehouse que possa acomodar os dados consolidados. Pode ser um esquema estrela básico com tabelas de fatos e dimensões.\n",
        "\n",
        "    4. Carga no Data Warehouse: Crie um script ou processo para carregar os dados consolidados na estrutura do Data Warehouse simulado.\n",
        "\n",
        "    5. Visualização de Dados: Use uma ferramenta de visualização de dados de sua escolha (por exemplo, Power BI, Tableau ou outra) para criar um painel simples que apresente informações sobre as vendas. Você pode incluir gráficos de vendas por período, produto mais vendido etc."
      ]
    },
    {
      "cell_type": "markdown",
      "metadata": {
        "id": "R7T4l9qrqA0H"
      },
      "source": [
        "#2° Fontes de Dados Simuladas e transformações\n",
        "\n",
        "Em anexo consta os arquivos sql criados para extração dos cliente onde já foram realizadas as transformações de normalização de dados(extract_cliente.sql) e extração das vendas(extract_vendas.sql)."
      ]
    },
    {
      "cell_type": "markdown",
      "metadata": {
        "id": "F9e67tN0QjnU"
      },
      "source": []
    },
    {
      "cell_type": "code",
      "source": [
        "from google.colab import drive\n",
        "drive.mount('/content/drive')"
      ],
      "metadata": {
        "colab": {
          "base_uri": "https://localhost:8080/"
        },
        "id": "5IcgQFomHMyu",
        "outputId": "3516d7e2-03c5-4b9e-ff9d-b79dd65b933c"
      },
      "execution_count": 3,
      "outputs": [
        {
          "output_type": "stream",
          "name": "stdout",
          "text": [
            "Drive already mounted at /content/drive; to attempt to forcibly remount, call drive.mount(\"/content/drive\", force_remount=True).\n"
          ]
        }
      ]
    },
    {
      "cell_type": "markdown",
      "metadata": {
        "id": "f2ynYTW2Ty76"
      },
      "source": [
        "#2° Análise Exploratória dos Dados\n",
        "\n",
        "Neste passo foi realizado merge dos arquivos e removido campos duplicados."
      ]
    },
    {
      "cell_type": "markdown",
      "source": [
        "Instalacao das bibliotecas"
      ],
      "metadata": {
        "id": "q0MNqNf8J17C"
      }
    },
    {
      "cell_type": "code",
      "execution_count": 5,
      "metadata": {
        "colab": {
          "base_uri": "https://localhost:8080/"
        },
        "id": "XMWYXQbnUblA",
        "outputId": "bdf5a5a8-740a-456b-ed83-c3372fab0924"
      },
      "outputs": [
        {
          "output_type": "stream",
          "name": "stdout",
          "text": [
            "Requirement already satisfied: pandas in /usr/local/lib/python3.10/dist-packages (1.5.3)\n",
            "Requirement already satisfied: gdown in /usr/local/lib/python3.10/dist-packages (4.6.6)\n",
            "Requirement already satisfied: python-dateutil>=2.8.1 in /usr/local/lib/python3.10/dist-packages (from pandas) (2.8.2)\n",
            "Requirement already satisfied: pytz>=2020.1 in /usr/local/lib/python3.10/dist-packages (from pandas) (2023.3.post1)\n",
            "Requirement already satisfied: numpy>=1.21.0 in /usr/local/lib/python3.10/dist-packages (from pandas) (1.23.5)\n",
            "Requirement already satisfied: filelock in /usr/local/lib/python3.10/dist-packages (from gdown) (3.12.4)\n",
            "Requirement already satisfied: requests[socks] in /usr/local/lib/python3.10/dist-packages (from gdown) (2.31.0)\n",
            "Requirement already satisfied: six in /usr/local/lib/python3.10/dist-packages (from gdown) (1.16.0)\n",
            "Requirement already satisfied: tqdm in /usr/local/lib/python3.10/dist-packages (from gdown) (4.66.1)\n",
            "Requirement already satisfied: beautifulsoup4 in /usr/local/lib/python3.10/dist-packages (from gdown) (4.11.2)\n",
            "Requirement already satisfied: soupsieve>1.2 in /usr/local/lib/python3.10/dist-packages (from beautifulsoup4->gdown) (2.5)\n",
            "Requirement already satisfied: charset-normalizer<4,>=2 in /usr/local/lib/python3.10/dist-packages (from requests[socks]->gdown) (3.3.0)\n",
            "Requirement already satisfied: idna<4,>=2.5 in /usr/local/lib/python3.10/dist-packages (from requests[socks]->gdown) (3.4)\n",
            "Requirement already satisfied: urllib3<3,>=1.21.1 in /usr/local/lib/python3.10/dist-packages (from requests[socks]->gdown) (2.0.6)\n",
            "Requirement already satisfied: certifi>=2017.4.17 in /usr/local/lib/python3.10/dist-packages (from requests[socks]->gdown) (2023.7.22)\n",
            "Requirement already satisfied: PySocks!=1.5.7,>=1.5.6 in /usr/local/lib/python3.10/dist-packages (from requests[socks]->gdown) (1.7.1)\n",
            "Collecting sweetviz\n",
            "  Downloading sweetviz-2.2.1-py3-none-any.whl (15.1 MB)\n",
            "\u001b[2K     \u001b[90m━━━━━━━━━━━━━━━━━━━━━━━━━━━━━━━━━━━━━━━━\u001b[0m \u001b[32m15.1/15.1 MB\u001b[0m \u001b[31m36.3 MB/s\u001b[0m eta \u001b[36m0:00:00\u001b[0m\n",
            "\u001b[?25hRequirement already satisfied: pandas!=1.0.0,!=1.0.1,!=1.0.2,>=0.25.3 in /usr/local/lib/python3.10/dist-packages (from sweetviz) (1.5.3)\n",
            "Requirement already satisfied: numpy>=1.16.0 in /usr/local/lib/python3.10/dist-packages (from sweetviz) (1.23.5)\n",
            "Requirement already satisfied: matplotlib>=3.1.3 in /usr/local/lib/python3.10/dist-packages (from sweetviz) (3.7.1)\n",
            "Requirement already satisfied: tqdm>=4.43.0 in /usr/local/lib/python3.10/dist-packages (from sweetviz) (4.66.1)\n",
            "Requirement already satisfied: scipy>=1.3.2 in /usr/local/lib/python3.10/dist-packages (from sweetviz) (1.11.3)\n",
            "Requirement already satisfied: jinja2>=2.11.1 in /usr/local/lib/python3.10/dist-packages (from sweetviz) (3.1.2)\n",
            "Requirement already satisfied: importlib-resources>=1.2.0 in /usr/local/lib/python3.10/dist-packages (from sweetviz) (6.1.0)\n",
            "Requirement already satisfied: MarkupSafe>=2.0 in /usr/local/lib/python3.10/dist-packages (from jinja2>=2.11.1->sweetviz) (2.1.3)\n",
            "Requirement already satisfied: contourpy>=1.0.1 in /usr/local/lib/python3.10/dist-packages (from matplotlib>=3.1.3->sweetviz) (1.1.1)\n",
            "Requirement already satisfied: cycler>=0.10 in /usr/local/lib/python3.10/dist-packages (from matplotlib>=3.1.3->sweetviz) (0.12.0)\n",
            "Requirement already satisfied: fonttools>=4.22.0 in /usr/local/lib/python3.10/dist-packages (from matplotlib>=3.1.3->sweetviz) (4.43.0)\n",
            "Requirement already satisfied: kiwisolver>=1.0.1 in /usr/local/lib/python3.10/dist-packages (from matplotlib>=3.1.3->sweetviz) (1.4.5)\n",
            "Requirement already satisfied: packaging>=20.0 in /usr/local/lib/python3.10/dist-packages (from matplotlib>=3.1.3->sweetviz) (23.2)\n",
            "Requirement already satisfied: pillow>=6.2.0 in /usr/local/lib/python3.10/dist-packages (from matplotlib>=3.1.3->sweetviz) (9.4.0)\n",
            "Requirement already satisfied: pyparsing>=2.3.1 in /usr/local/lib/python3.10/dist-packages (from matplotlib>=3.1.3->sweetviz) (3.1.1)\n",
            "Requirement already satisfied: python-dateutil>=2.7 in /usr/local/lib/python3.10/dist-packages (from matplotlib>=3.1.3->sweetviz) (2.8.2)\n",
            "Requirement already satisfied: pytz>=2020.1 in /usr/local/lib/python3.10/dist-packages (from pandas!=1.0.0,!=1.0.1,!=1.0.2,>=0.25.3->sweetviz) (2023.3.post1)\n",
            "Requirement already satisfied: six>=1.5 in /usr/local/lib/python3.10/dist-packages (from python-dateutil>=2.7->matplotlib>=3.1.3->sweetviz) (1.16.0)\n",
            "Installing collected packages: sweetviz\n",
            "Successfully installed sweetviz-2.2.1\n"
          ]
        }
      ],
      "source": [
        "!pip install pandas   gdown\n",
        "!pip install sweetviz"
      ]
    },
    {
      "cell_type": "code",
      "source": [
        "from google.colab import files\n",
        "uploaded = files.upload()"
      ],
      "metadata": {
        "colab": {
          "base_uri": "https://localhost:8080/",
          "height": 38
        },
        "id": "LAOlYz8xJy9C",
        "outputId": "fd54f253-94cf-4103-a943-04c85503e65e"
      },
      "execution_count": null,
      "outputs": [
        {
          "output_type": "display_data",
          "data": {
            "text/plain": [
              "<IPython.core.display.HTML object>"
            ],
            "text/html": [
              "\n",
              "     <input type=\"file\" id=\"files-dd69cadd-c078-45d9-8fcb-045edae55b08\" name=\"files[]\" multiple disabled\n",
              "        style=\"border:none\" />\n",
              "     <output id=\"result-dd69cadd-c078-45d9-8fcb-045edae55b08\">\n",
              "      Upload widget is only available when the cell has been executed in the\n",
              "      current browser session. Please rerun this cell to enable.\n",
              "      </output>\n",
              "      <script>// Copyright 2017 Google LLC\n",
              "//\n",
              "// Licensed under the Apache License, Version 2.0 (the \"License\");\n",
              "// you may not use this file except in compliance with the License.\n",
              "// You may obtain a copy of the License at\n",
              "//\n",
              "//      http://www.apache.org/licenses/LICENSE-2.0\n",
              "//\n",
              "// Unless required by applicable law or agreed to in writing, software\n",
              "// distributed under the License is distributed on an \"AS IS\" BASIS,\n",
              "// WITHOUT WARRANTIES OR CONDITIONS OF ANY KIND, either express or implied.\n",
              "// See the License for the specific language governing permissions and\n",
              "// limitations under the License.\n",
              "\n",
              "/**\n",
              " * @fileoverview Helpers for google.colab Python module.\n",
              " */\n",
              "(function(scope) {\n",
              "function span(text, styleAttributes = {}) {\n",
              "  const element = document.createElement('span');\n",
              "  element.textContent = text;\n",
              "  for (const key of Object.keys(styleAttributes)) {\n",
              "    element.style[key] = styleAttributes[key];\n",
              "  }\n",
              "  return element;\n",
              "}\n",
              "\n",
              "// Max number of bytes which will be uploaded at a time.\n",
              "const MAX_PAYLOAD_SIZE = 100 * 1024;\n",
              "\n",
              "function _uploadFiles(inputId, outputId) {\n",
              "  const steps = uploadFilesStep(inputId, outputId);\n",
              "  const outputElement = document.getElementById(outputId);\n",
              "  // Cache steps on the outputElement to make it available for the next call\n",
              "  // to uploadFilesContinue from Python.\n",
              "  outputElement.steps = steps;\n",
              "\n",
              "  return _uploadFilesContinue(outputId);\n",
              "}\n",
              "\n",
              "// This is roughly an async generator (not supported in the browser yet),\n",
              "// where there are multiple asynchronous steps and the Python side is going\n",
              "// to poll for completion of each step.\n",
              "// This uses a Promise to block the python side on completion of each step,\n",
              "// then passes the result of the previous step as the input to the next step.\n",
              "function _uploadFilesContinue(outputId) {\n",
              "  const outputElement = document.getElementById(outputId);\n",
              "  const steps = outputElement.steps;\n",
              "\n",
              "  const next = steps.next(outputElement.lastPromiseValue);\n",
              "  return Promise.resolve(next.value.promise).then((value) => {\n",
              "    // Cache the last promise value to make it available to the next\n",
              "    // step of the generator.\n",
              "    outputElement.lastPromiseValue = value;\n",
              "    return next.value.response;\n",
              "  });\n",
              "}\n",
              "\n",
              "/**\n",
              " * Generator function which is called between each async step of the upload\n",
              " * process.\n",
              " * @param {string} inputId Element ID of the input file picker element.\n",
              " * @param {string} outputId Element ID of the output display.\n",
              " * @return {!Iterable<!Object>} Iterable of next steps.\n",
              " */\n",
              "function* uploadFilesStep(inputId, outputId) {\n",
              "  const inputElement = document.getElementById(inputId);\n",
              "  inputElement.disabled = false;\n",
              "\n",
              "  const outputElement = document.getElementById(outputId);\n",
              "  outputElement.innerHTML = '';\n",
              "\n",
              "  const pickedPromise = new Promise((resolve) => {\n",
              "    inputElement.addEventListener('change', (e) => {\n",
              "      resolve(e.target.files);\n",
              "    });\n",
              "  });\n",
              "\n",
              "  const cancel = document.createElement('button');\n",
              "  inputElement.parentElement.appendChild(cancel);\n",
              "  cancel.textContent = 'Cancel upload';\n",
              "  const cancelPromise = new Promise((resolve) => {\n",
              "    cancel.onclick = () => {\n",
              "      resolve(null);\n",
              "    };\n",
              "  });\n",
              "\n",
              "  // Wait for the user to pick the files.\n",
              "  const files = yield {\n",
              "    promise: Promise.race([pickedPromise, cancelPromise]),\n",
              "    response: {\n",
              "      action: 'starting',\n",
              "    }\n",
              "  };\n",
              "\n",
              "  cancel.remove();\n",
              "\n",
              "  // Disable the input element since further picks are not allowed.\n",
              "  inputElement.disabled = true;\n",
              "\n",
              "  if (!files) {\n",
              "    return {\n",
              "      response: {\n",
              "        action: 'complete',\n",
              "      }\n",
              "    };\n",
              "  }\n",
              "\n",
              "  for (const file of files) {\n",
              "    const li = document.createElement('li');\n",
              "    li.append(span(file.name, {fontWeight: 'bold'}));\n",
              "    li.append(span(\n",
              "        `(${file.type || 'n/a'}) - ${file.size} bytes, ` +\n",
              "        `last modified: ${\n",
              "            file.lastModifiedDate ? file.lastModifiedDate.toLocaleDateString() :\n",
              "                                    'n/a'} - `));\n",
              "    const percent = span('0% done');\n",
              "    li.appendChild(percent);\n",
              "\n",
              "    outputElement.appendChild(li);\n",
              "\n",
              "    const fileDataPromise = new Promise((resolve) => {\n",
              "      const reader = new FileReader();\n",
              "      reader.onload = (e) => {\n",
              "        resolve(e.target.result);\n",
              "      };\n",
              "      reader.readAsArrayBuffer(file);\n",
              "    });\n",
              "    // Wait for the data to be ready.\n",
              "    let fileData = yield {\n",
              "      promise: fileDataPromise,\n",
              "      response: {\n",
              "        action: 'continue',\n",
              "      }\n",
              "    };\n",
              "\n",
              "    // Use a chunked sending to avoid message size limits. See b/62115660.\n",
              "    let position = 0;\n",
              "    do {\n",
              "      const length = Math.min(fileData.byteLength - position, MAX_PAYLOAD_SIZE);\n",
              "      const chunk = new Uint8Array(fileData, position, length);\n",
              "      position += length;\n",
              "\n",
              "      const base64 = btoa(String.fromCharCode.apply(null, chunk));\n",
              "      yield {\n",
              "        response: {\n",
              "          action: 'append',\n",
              "          file: file.name,\n",
              "          data: base64,\n",
              "        },\n",
              "      };\n",
              "\n",
              "      let percentDone = fileData.byteLength === 0 ?\n",
              "          100 :\n",
              "          Math.round((position / fileData.byteLength) * 100);\n",
              "      percent.textContent = `${percentDone}% done`;\n",
              "\n",
              "    } while (position < fileData.byteLength);\n",
              "  }\n",
              "\n",
              "  // All done.\n",
              "  yield {\n",
              "    response: {\n",
              "      action: 'complete',\n",
              "    }\n",
              "  };\n",
              "}\n",
              "\n",
              "scope.google = scope.google || {};\n",
              "scope.google.colab = scope.google.colab || {};\n",
              "scope.google.colab._files = {\n",
              "  _uploadFiles,\n",
              "  _uploadFilesContinue,\n",
              "};\n",
              "})(self);\n",
              "</script> "
            ]
          },
          "metadata": {}
        }
      ]
    },
    {
      "cell_type": "code",
      "execution_count": null,
      "metadata": {
        "id": "3BZDiOc7UO4-"
      },
      "outputs": [],
      "source": [
        "# Importando as bibliotecas necessárias\n",
        "import pandas as pd\n",
        "import io\n",
        "import sweetviz as sv\n",
        "import gdown\n",
        "\n",
        "# Lendo os DataFrames com o delimitador correto (vírgula) e indicando que a primeira linha contém cabeçalhos\n",
        "\n",
        "# Carregando os dados do arquivo CSV 'clientes.csv' em clientes_df\n",
        "clientes_df = pd.read_csv(\"clientes.csv\",  header=0, encoding='utf-8')\n",
        "\n",
        "# Carregando os dados do arquivo CSV 'vendas.csv' em vendas_df\n",
        "vendas_df = pd.read_csv(\"vendas.csv\",  header=0, encoding='utf-8')\n",
        "\n",
        "# Realizando a junção dos DataFrames pelos campos \"id do cliente\"\n",
        "resultado_df = pd.merge(clientes_df, vendas_df, on=\"id\")\n",
        "\n",
        "# Removendo colunas duplicadas após o merge\n",
        "resultado_df = resultado_df.loc[:, ~resultado_df.columns.duplicated()]\n",
        "\n",
        "# Realizando a análise com Sweetviz no DataFrame resultado_df\n",
        "resultado = sv.analyze(resultado_df)\n",
        "\n",
        "# Gerando um relatório HTML chamado 'SWEETVIZ_REPORT.html'\n",
        "resultado.show_html('SWEETVIZ_REPORT.html')"
      ]
    },
    {
      "cell_type": "markdown",
      "metadata": {
        "id": "gADqLLmBUt4r"
      },
      "source": [
        "> Neste momento foi gerado o arquivo de análise exploratória dos dados: SWEETVIZ_REPORT.html"
      ]
    },
    {
      "cell_type": "markdown",
      "metadata": {
        "id": "n1ehVzRIIwuo"
      },
      "source": [
        "# 3° Processamento de Dados"
      ]
    },
    {
      "cell_type": "markdown",
      "metadata": {
        "id": "fmi918Sb7jIR"
      },
      "source": [
        "### Importação das bibliotecas"
      ]
    },
    {
      "cell_type": "code",
      "execution_count": null,
      "metadata": {
        "id": "xJL3PY4hIy9N"
      },
      "outputs": [],
      "source": [
        "# Manipulação de Dados\n",
        "import pandas as pd\n",
        "import numpy as np\n",
        "\n",
        "# Bibliotecas de IA - Machine Learning e Automações\n",
        "from sklearn.pipeline import make_pipeline\n",
        "from sklearn.model_selection import train_test_split\n",
        "from sklearn.preprocessing import StandardScaler, OneHotEncoder\n",
        "from sklearn.compose import ColumnTransformer\n",
        "from imblearn.over_sampling import SMOTE\n",
        "from lightgbm import LGBMClassifier\n",
        "from sklearn.metrics import classification_report, accuracy_score\n",
        "import pickle"
      ]
    },
    {
      "cell_type": "markdown",
      "metadata": {
        "id": "hbAKOU4B8MSN"
      },
      "source": [
        "### Amostragem dos dados"
      ]
    },
    {
      "cell_type": "code",
      "execution_count": null,
      "metadata": {
        "id": "8UsSK51J8I-B"
      },
      "outputs": [],
      "source": [
        "# Separar features e target\n",
        "X = df.drop('prevendas', axis=1)\n",
        "y = df['prevendas']\n",
        "\n",
        "# Dividir os dados em conjuntos de treinamento e teste\n",
        "X_train, X_test, y_train, y_test = train_test_split(X, y, test_size=0.2, random_state=42)"
      ]
    },
    {
      "cell_type": "markdown",
      "metadata": {
        "id": "MzXQ9zfI8W-d"
      },
      "source": [
        "### Engenharia de Atributos"
      ]
    },
    {
      "cell_type": "code",
      "execution_count": null,
      "metadata": {
        "colab": {
          "base_uri": "https://localhost:8080/"
        },
        "id": "exHEsVPu8VlE",
        "outputId": "4d7a2cca-a1c1-4c63-c845-b416003cd983"
      },
      "outputs": [
        {
          "name": "stderr",
          "output_type": "stream",
          "text": [
            "/usr/local/lib/python3.10/dist-packages/sklearn/preprocessing/_encoders.py:868: FutureWarning: `sparse` was renamed to `sparse_output` in version 1.2 and will be removed in 1.4. `sparse_output` is ignored unless you leave `sparse` to its default value.\n",
            "  warnings.warn(\n"
          ]
        }
      ],
      "source": [
        "# Listar as colunas numéricas e categóricas\n",
        "numeric_features = X.select_dtypes(include=[np.number]).columns\n",
        "categorical_features = X.select_dtypes(include=['object']).columns\n",
        "\n",
        "# Criar os transformers para pré-processamento\n",
        "numeric_transformer = StandardScaler()\n",
        "categorical_transformer = OneHotEncoder(sparse=False)\n",
        "\n",
        "# Criar o ColumnTransformer para aplicar as transformações nas colunas apropriadas\n",
        "preprocessor = ColumnTransformer(\n",
        "    transformers=[\n",
        "        ('num', numeric_transformer, numeric_features),\n",
        "        ('cat', categorical_transformer, categorical_features)\n",
        "    ])\n",
        "\n",
        "# Aplicar as transformações no preprocessor\n",
        "X_train_preprocessed = preprocessor.fit_transform(X_train)\n",
        "numeric_columns = numeric_features.tolist()\n",
        "categorical_columns = preprocessor.transformers_[1][1].get_feature_names_out(categorical_features)\n",
        "all_columns = numeric_columns + list(categorical_columns)\n",
        "X_train_preprocessed = pd.DataFrame(X_train_preprocessed, columns=all_columns)\n",
        "\n"
      ]
    },
    {
      "cell_type": "code",
      "execution_count": null,
      "metadata": {
        "id": "BCML33xS8hkW"
      },
      "outputs": [],
      "source": [
        "# Cria Dados Sintéticos para resolver o problema de Desbalanceamento do Target\n",
        "sm = SMOTE(random_state=42)\n",
        "X_train_resampled, y_train_resampled = sm.fit_resample(X_train_preprocessed, y_train)\n",
        "\n"
      ]
    },
    {
      "cell_type": "markdown",
      "metadata": {
        "id": "9-9JOi058tBg"
      },
      "source": [
        "#4° Construção e Avaliação da IA Preditiva de Vendas"
      ]
    },
    {
      "cell_type": "markdown",
      "metadata": {
        "id": "c14LI4u38zo1"
      },
      "source": [
        "### Escolha do Algoritmo de Machine Learning e Treinamento com os Dados"
      ]
    },
    {
      "cell_type": "code",
      "execution_count": null,
      "metadata": {
        "id": "l3huXK0M8tUK"
      },
      "outputs": [],
      "source": [
        "# Escolher um algoritmo de aprendizado de máquina\n",
        "model = LGBMClassifier(n_estimators=200)\n",
        "\n",
        "# Treinar o modelo no conjunto de treinamento\n",
        "pipeline = make_pipeline(model)\n",
        "pipeline.fit(X_train_resampled, y_train_resampled)\n",
        "\n",
        "# Aplicar as mesmas transformações no conjunto de teste\n",
        "X_test_preprocessed = preprocessor.transform(X_test)\n",
        "X_test_preprocessed = pd.DataFrame(X_test_preprocessed, columns=all_columns)\n",
        "\n"
      ]
    },
    {
      "cell_type": "code",
      "execution_count": null,
      "metadata": {
        "id": "8hIeiq8B4tqe"
      },
      "outputs": [],
      "source": []
    },
    {
      "cell_type": "code",
      "execution_count": null,
      "metadata": {
        "colab": {
          "base_uri": "https://localhost:8080/"
        },
        "id": "5ufuoz0A88xi",
        "outputId": "8fd6d6ef-02e2-4bcf-cd3c-7d54f3bb83ec"
      },
      "outputs": [
        {
          "name": "stdout",
          "output_type": "stream",
          "text": [
            "Acurácia: 0.910206789782152\n",
            "\n",
            "Classification Report:\n",
            "               precision    recall  f1-score   support\n",
            "\n",
            "         não       0.95      0.95      0.95      7952\n",
            "         sim       0.64      0.60      0.62      1091\n",
            "\n",
            "    accuracy                           0.91      9043\n",
            "   macro avg       0.79      0.77      0.78      9043\n",
            "weighted avg       0.91      0.91      0.91      9043\n",
            "\n"
          ]
        }
      ],
      "source": [
        "# Avaliar o modelo no conjunto de teste\n",
        "y_pred = pipeline.predict(X_test_preprocessed)\n",
        "\n",
        "# Métricas de avaliação\n",
        "print('Acurácia:', accuracy_score(y_test, y_pred))\n",
        "print('\\nClassification Report:\\n', classification_report(y_test, y_pred))\n",
        "\n",
        "\n"
      ]
    },
    {
      "cell_type": "markdown",
      "metadata": {
        "id": "ta20BnXQ9Keu"
      },
      "source": [
        "### Lista das Variáveis mais Importantes da IA"
      ]
    },
    {
      "cell_type": "code",
      "execution_count": null,
      "metadata": {
        "colab": {
          "base_uri": "https://localhost:8080/",
          "height": 542
        },
        "id": "pbvsV7vgKqyk",
        "outputId": "c089a18b-650a-43b3-a6ba-31979fcc4c41"
      },
      "outputs": [
        {
          "data": {
            "text/html": [
              "<html>\n",
              "<head><meta charset=\"utf-8\" /></head>\n",
              "<body>\n",
              "    <div>            <script src=\"https://cdnjs.cloudflare.com/ajax/libs/mathjax/2.7.5/MathJax.js?config=TeX-AMS-MML_SVG\"></script><script type=\"text/javascript\">if (window.MathJax && window.MathJax.Hub && window.MathJax.Hub.Config) {window.MathJax.Hub.Config({SVG: {font: \"STIX-Web\"}});}</script>                <script type=\"text/javascript\">window.PlotlyConfig = {MathJaxConfig: 'local'};</script>\n",
              "        <script src=\"https://cdn.plot.ly/plotly-2.18.2.min.js\"></script>                <div id=\"1989a4c4-a56b-4a5e-9f53-4ac7c2827320\" class=\"plotly-graph-div\" style=\"height:525px; width:100%;\"></div>            <script type=\"text/javascript\">                                    window.PLOTLYENV=window.PLOTLYENV || {};                                    if (document.getElementById(\"1989a4c4-a56b-4a5e-9f53-4ac7c2827320\")) {                    Plotly.newPlot(                        \"1989a4c4-a56b-4a5e-9f53-4ac7c2827320\",                        [{\"orientation\":\"h\",\"x\":[810,768,731,532,467,210,113,106,102,99,98,94,93,93,92,87,84,82,79,67,65,65,63,62,60,59,59,58,56,55,54,49,46,44,43,36,36,34,33,31,30,29,28,23,15,15,13,12,11,9,0],\"y\":[\"duracao\",\"dia\",\"idade\",\"saldo\",\"campanha\",\"dias_passados\",\"moradia_n\\u00e3o\",\"mes_maio\",\"mes_fevereiro\",\"mes_julho\",\"mes_outubro\",\"mes_abril\",\"mes_agosto\",\"mes_junho\",\"anterior\",\"mes_novembro\",\"contato_desconhecido\",\"contato_celular\",\"mes_mar\\u00e7o\",\"emprestimo_n\\u00e3o\",\"emprego_t\\u00e9cnico\",\"estado_civil_casado\",\"emprego_administrativo\",\"educacao_secund\\u00e1rio\",\"emprego_trabalhador-manual\",\"educacao_terci\\u00e1rio\",\"resultado_anterior_sucesso\",\"estado_civil_divorciado\",\"mes_setembro\",\"emprego_servi\\u00e7os\",\"mes_janeiro\",\"resultado_anterior_fracasso\",\"emprego_gerente\",\"educacao_prim\\u00e1rio\",\"educacao_desconhecido\",\"estado_civil_solteiro\",\"emprego_desempregado\",\"emprego_aut\\u00f4nomo\",\"emprego_empreendedor\",\"resultado_anterior_outro\",\"emprego_dom\\u00e9stica\",\"emprego_aposentado\",\"mes_dezembro\",\"padrao_n\\u00e3o\",\"contato_telefone\",\"moradia_sim\",\"emprego_estudante\",\"emprego_desconhecido\",\"resultado_anterior_desconhecido\",\"emprestimo_sim\",\"padrao_sim\"],\"type\":\"bar\"}],                        {\"template\":{\"data\":{\"histogram2dcontour\":[{\"type\":\"histogram2dcontour\",\"colorbar\":{\"outlinewidth\":0,\"ticks\":\"\"},\"colorscale\":[[0.0,\"#0d0887\"],[0.1111111111111111,\"#46039f\"],[0.2222222222222222,\"#7201a8\"],[0.3333333333333333,\"#9c179e\"],[0.4444444444444444,\"#bd3786\"],[0.5555555555555556,\"#d8576b\"],[0.6666666666666666,\"#ed7953\"],[0.7777777777777778,\"#fb9f3a\"],[0.8888888888888888,\"#fdca26\"],[1.0,\"#f0f921\"]]}],\"choropleth\":[{\"type\":\"choropleth\",\"colorbar\":{\"outlinewidth\":0,\"ticks\":\"\"}}],\"histogram2d\":[{\"type\":\"histogram2d\",\"colorbar\":{\"outlinewidth\":0,\"ticks\":\"\"},\"colorscale\":[[0.0,\"#0d0887\"],[0.1111111111111111,\"#46039f\"],[0.2222222222222222,\"#7201a8\"],[0.3333333333333333,\"#9c179e\"],[0.4444444444444444,\"#bd3786\"],[0.5555555555555556,\"#d8576b\"],[0.6666666666666666,\"#ed7953\"],[0.7777777777777778,\"#fb9f3a\"],[0.8888888888888888,\"#fdca26\"],[1.0,\"#f0f921\"]]}],\"heatmap\":[{\"type\":\"heatmap\",\"colorbar\":{\"outlinewidth\":0,\"ticks\":\"\"},\"colorscale\":[[0.0,\"#0d0887\"],[0.1111111111111111,\"#46039f\"],[0.2222222222222222,\"#7201a8\"],[0.3333333333333333,\"#9c179e\"],[0.4444444444444444,\"#bd3786\"],[0.5555555555555556,\"#d8576b\"],[0.6666666666666666,\"#ed7953\"],[0.7777777777777778,\"#fb9f3a\"],[0.8888888888888888,\"#fdca26\"],[1.0,\"#f0f921\"]]}],\"heatmapgl\":[{\"type\":\"heatmapgl\",\"colorbar\":{\"outlinewidth\":0,\"ticks\":\"\"},\"colorscale\":[[0.0,\"#0d0887\"],[0.1111111111111111,\"#46039f\"],[0.2222222222222222,\"#7201a8\"],[0.3333333333333333,\"#9c179e\"],[0.4444444444444444,\"#bd3786\"],[0.5555555555555556,\"#d8576b\"],[0.6666666666666666,\"#ed7953\"],[0.7777777777777778,\"#fb9f3a\"],[0.8888888888888888,\"#fdca26\"],[1.0,\"#f0f921\"]]}],\"contourcarpet\":[{\"type\":\"contourcarpet\",\"colorbar\":{\"outlinewidth\":0,\"ticks\":\"\"}}],\"contour\":[{\"type\":\"contour\",\"colorbar\":{\"outlinewidth\":0,\"ticks\":\"\"},\"colorscale\":[[0.0,\"#0d0887\"],[0.1111111111111111,\"#46039f\"],[0.2222222222222222,\"#7201a8\"],[0.3333333333333333,\"#9c179e\"],[0.4444444444444444,\"#bd3786\"],[0.5555555555555556,\"#d8576b\"],[0.6666666666666666,\"#ed7953\"],[0.7777777777777778,\"#fb9f3a\"],[0.8888888888888888,\"#fdca26\"],[1.0,\"#f0f921\"]]}],\"surface\":[{\"type\":\"surface\",\"colorbar\":{\"outlinewidth\":0,\"ticks\":\"\"},\"colorscale\":[[0.0,\"#0d0887\"],[0.1111111111111111,\"#46039f\"],[0.2222222222222222,\"#7201a8\"],[0.3333333333333333,\"#9c179e\"],[0.4444444444444444,\"#bd3786\"],[0.5555555555555556,\"#d8576b\"],[0.6666666666666666,\"#ed7953\"],[0.7777777777777778,\"#fb9f3a\"],[0.8888888888888888,\"#fdca26\"],[1.0,\"#f0f921\"]]}],\"mesh3d\":[{\"type\":\"mesh3d\",\"colorbar\":{\"outlinewidth\":0,\"ticks\":\"\"}}],\"scatter\":[{\"fillpattern\":{\"fillmode\":\"overlay\",\"size\":10,\"solidity\":0.2},\"type\":\"scatter\"}],\"parcoords\":[{\"type\":\"parcoords\",\"line\":{\"colorbar\":{\"outlinewidth\":0,\"ticks\":\"\"}}}],\"scatterpolargl\":[{\"type\":\"scatterpolargl\",\"marker\":{\"colorbar\":{\"outlinewidth\":0,\"ticks\":\"\"}}}],\"bar\":[{\"error_x\":{\"color\":\"#2a3f5f\"},\"error_y\":{\"color\":\"#2a3f5f\"},\"marker\":{\"line\":{\"color\":\"#E5ECF6\",\"width\":0.5},\"pattern\":{\"fillmode\":\"overlay\",\"size\":10,\"solidity\":0.2}},\"type\":\"bar\"}],\"scattergeo\":[{\"type\":\"scattergeo\",\"marker\":{\"colorbar\":{\"outlinewidth\":0,\"ticks\":\"\"}}}],\"scatterpolar\":[{\"type\":\"scatterpolar\",\"marker\":{\"colorbar\":{\"outlinewidth\":0,\"ticks\":\"\"}}}],\"histogram\":[{\"marker\":{\"pattern\":{\"fillmode\":\"overlay\",\"size\":10,\"solidity\":0.2}},\"type\":\"histogram\"}],\"scattergl\":[{\"type\":\"scattergl\",\"marker\":{\"colorbar\":{\"outlinewidth\":0,\"ticks\":\"\"}}}],\"scatter3d\":[{\"type\":\"scatter3d\",\"line\":{\"colorbar\":{\"outlinewidth\":0,\"ticks\":\"\"}},\"marker\":{\"colorbar\":{\"outlinewidth\":0,\"ticks\":\"\"}}}],\"scattermapbox\":[{\"type\":\"scattermapbox\",\"marker\":{\"colorbar\":{\"outlinewidth\":0,\"ticks\":\"\"}}}],\"scatterternary\":[{\"type\":\"scatterternary\",\"marker\":{\"colorbar\":{\"outlinewidth\":0,\"ticks\":\"\"}}}],\"scattercarpet\":[{\"type\":\"scattercarpet\",\"marker\":{\"colorbar\":{\"outlinewidth\":0,\"ticks\":\"\"}}}],\"carpet\":[{\"aaxis\":{\"endlinecolor\":\"#2a3f5f\",\"gridcolor\":\"white\",\"linecolor\":\"white\",\"minorgridcolor\":\"white\",\"startlinecolor\":\"#2a3f5f\"},\"baxis\":{\"endlinecolor\":\"#2a3f5f\",\"gridcolor\":\"white\",\"linecolor\":\"white\",\"minorgridcolor\":\"white\",\"startlinecolor\":\"#2a3f5f\"},\"type\":\"carpet\"}],\"table\":[{\"cells\":{\"fill\":{\"color\":\"#EBF0F8\"},\"line\":{\"color\":\"white\"}},\"header\":{\"fill\":{\"color\":\"#C8D4E3\"},\"line\":{\"color\":\"white\"}},\"type\":\"table\"}],\"barpolar\":[{\"marker\":{\"line\":{\"color\":\"#E5ECF6\",\"width\":0.5},\"pattern\":{\"fillmode\":\"overlay\",\"size\":10,\"solidity\":0.2}},\"type\":\"barpolar\"}],\"pie\":[{\"automargin\":true,\"type\":\"pie\"}]},\"layout\":{\"autotypenumbers\":\"strict\",\"colorway\":[\"#636efa\",\"#EF553B\",\"#00cc96\",\"#ab63fa\",\"#FFA15A\",\"#19d3f3\",\"#FF6692\",\"#B6E880\",\"#FF97FF\",\"#FECB52\"],\"font\":{\"color\":\"#2a3f5f\"},\"hovermode\":\"closest\",\"hoverlabel\":{\"align\":\"left\"},\"paper_bgcolor\":\"white\",\"plot_bgcolor\":\"#E5ECF6\",\"polar\":{\"bgcolor\":\"#E5ECF6\",\"angularaxis\":{\"gridcolor\":\"white\",\"linecolor\":\"white\",\"ticks\":\"\"},\"radialaxis\":{\"gridcolor\":\"white\",\"linecolor\":\"white\",\"ticks\":\"\"}},\"ternary\":{\"bgcolor\":\"#E5ECF6\",\"aaxis\":{\"gridcolor\":\"white\",\"linecolor\":\"white\",\"ticks\":\"\"},\"baxis\":{\"gridcolor\":\"white\",\"linecolor\":\"white\",\"ticks\":\"\"},\"caxis\":{\"gridcolor\":\"white\",\"linecolor\":\"white\",\"ticks\":\"\"}},\"coloraxis\":{\"colorbar\":{\"outlinewidth\":0,\"ticks\":\"\"}},\"colorscale\":{\"sequential\":[[0.0,\"#0d0887\"],[0.1111111111111111,\"#46039f\"],[0.2222222222222222,\"#7201a8\"],[0.3333333333333333,\"#9c179e\"],[0.4444444444444444,\"#bd3786\"],[0.5555555555555556,\"#d8576b\"],[0.6666666666666666,\"#ed7953\"],[0.7777777777777778,\"#fb9f3a\"],[0.8888888888888888,\"#fdca26\"],[1.0,\"#f0f921\"]],\"sequentialminus\":[[0.0,\"#0d0887\"],[0.1111111111111111,\"#46039f\"],[0.2222222222222222,\"#7201a8\"],[0.3333333333333333,\"#9c179e\"],[0.4444444444444444,\"#bd3786\"],[0.5555555555555556,\"#d8576b\"],[0.6666666666666666,\"#ed7953\"],[0.7777777777777778,\"#fb9f3a\"],[0.8888888888888888,\"#fdca26\"],[1.0,\"#f0f921\"]],\"diverging\":[[0,\"#8e0152\"],[0.1,\"#c51b7d\"],[0.2,\"#de77ae\"],[0.3,\"#f1b6da\"],[0.4,\"#fde0ef\"],[0.5,\"#f7f7f7\"],[0.6,\"#e6f5d0\"],[0.7,\"#b8e186\"],[0.8,\"#7fbc41\"],[0.9,\"#4d9221\"],[1,\"#276419\"]]},\"xaxis\":{\"gridcolor\":\"white\",\"linecolor\":\"white\",\"ticks\":\"\",\"title\":{\"standoff\":15},\"zerolinecolor\":\"white\",\"automargin\":true,\"zerolinewidth\":2},\"yaxis\":{\"gridcolor\":\"white\",\"linecolor\":\"white\",\"ticks\":\"\",\"title\":{\"standoff\":15},\"zerolinecolor\":\"white\",\"automargin\":true,\"zerolinewidth\":2},\"scene\":{\"xaxis\":{\"backgroundcolor\":\"#E5ECF6\",\"gridcolor\":\"white\",\"linecolor\":\"white\",\"showbackground\":true,\"ticks\":\"\",\"zerolinecolor\":\"white\",\"gridwidth\":2},\"yaxis\":{\"backgroundcolor\":\"#E5ECF6\",\"gridcolor\":\"white\",\"linecolor\":\"white\",\"showbackground\":true,\"ticks\":\"\",\"zerolinecolor\":\"white\",\"gridwidth\":2},\"zaxis\":{\"backgroundcolor\":\"#E5ECF6\",\"gridcolor\":\"white\",\"linecolor\":\"white\",\"showbackground\":true,\"ticks\":\"\",\"zerolinecolor\":\"white\",\"gridwidth\":2}},\"shapedefaults\":{\"line\":{\"color\":\"#2a3f5f\"}},\"annotationdefaults\":{\"arrowcolor\":\"#2a3f5f\",\"arrowhead\":0,\"arrowwidth\":1},\"geo\":{\"bgcolor\":\"white\",\"landcolor\":\"#E5ECF6\",\"subunitcolor\":\"white\",\"showland\":true,\"showlakes\":true,\"lakecolor\":\"white\"},\"title\":{\"x\":0.05},\"mapbox\":{\"style\":\"light\"}}},\"title\":{\"text\":\"Import\\u00e2ncia das Vari\\u00e1veis\"},\"xaxis\":{\"title\":{\"text\":\"Import\\u00e2ncia\"}},\"yaxis\":{\"title\":{\"text\":\"Vari\\u00e1veis\"},\"autorange\":\"reversed\"}},                        {\"responsive\": true}                    ).then(function(){\n",
              "                            \n",
              "var gd = document.getElementById('1989a4c4-a56b-4a5e-9f53-4ac7c2827320');\n",
              "var x = new MutationObserver(function (mutations, observer) {{\n",
              "        var display = window.getComputedStyle(gd).display;\n",
              "        if (!display || display === 'none') {{\n",
              "            console.log([gd, 'removed!']);\n",
              "            Plotly.purge(gd);\n",
              "            observer.disconnect();\n",
              "        }}\n",
              "}});\n",
              "\n",
              "// Listen for the removal of the full notebook cells\n",
              "var notebookContainer = gd.closest('#notebook-container');\n",
              "if (notebookContainer) {{\n",
              "    x.observe(notebookContainer, {childList: true});\n",
              "}}\n",
              "\n",
              "// Listen for the clearing of the current output cell\n",
              "var outputEl = gd.closest('.output');\n",
              "if (outputEl) {{\n",
              "    x.observe(outputEl, {childList: true});\n",
              "}}\n",
              "\n",
              "                        })                };                            </script>        </div>\n",
              "</body>\n",
              "</html>"
            ]
          },
          "metadata": {},
          "output_type": "display_data"
        }
      ],
      "source": [
        "import plotly.express as px\n",
        "import plotly.graph_objects as go\n",
        "\n",
        "# Obter a importância das variáveis\n",
        "importance = pipeline.named_steps['lgbmclassifier'].feature_importances_\n",
        "feature_names = all_columns\n",
        "\n",
        "# Criar um DataFrame com a importância das variáveis\n",
        "importance_df = pd.DataFrame({'Feature': feature_names, 'Importance': importance})\n",
        "\n",
        "# Ordenar o DataFrame pela importância das variáveis em ordem decrescente\n",
        "importance_df = importance_df.sort_values(by='Importance', ascending=False)\n",
        "\n",
        "# Criar o gráfico de barras da importância das variáveis usando o Plotly\n",
        "fig = go.Figure(data=[go.Bar(x=importance_df['Importance'], y=importance_df['Feature'], orientation='h')])\n",
        "fig.update_layout(\n",
        "    title='Importância das Variáveis',\n",
        "    xaxis_title='Importância',\n",
        "    yaxis_title='Variáveis'\n",
        ")\n",
        "# Inverta a ordem do eixo y para que o recurso mais importante esteja no topo\n",
        "fig.update_yaxes(autorange=\"reversed\")\n",
        "\n",
        "fig.show()"
      ]
    },
    {
      "cell_type": "markdown",
      "metadata": {
        "id": "RbaNpE279Byd"
      },
      "source": [
        "### Salvamento da IA"
      ]
    },
    {
      "cell_type": "code",
      "execution_count": null,
      "metadata": {
        "id": "3xLSUOTd9CG9"
      },
      "outputs": [],
      "source": [
        "# Salvar o modelo treinado, o pré-processador e os nomes das colunas em um arquivo\n",
        "with open('model.pkl', 'wb') as f:\n",
        "    pickle.dump({\n",
        "        'model': pipeline,\n",
        "        'preprocessor': preprocessor,\n",
        "        'columns': all_columns\n",
        "    }, f)"
      ]
    },
    {
      "cell_type": "markdown",
      "metadata": {
        "id": "k_b5i9qLBDvX"
      },
      "source": [
        "![](https://medicinasa.com.br/wp-content/uploads/2021/08/pulmao-artificial-digital-imagem.gif)"
      ]
    },
    {
      "cell_type": "markdown",
      "metadata": {
        "id": "Jo4Nt5zFWnSr"
      },
      "source": [
        "#**5° Implementação da IA Preditiva de Vendas - Deploy**"
      ]
    },
    {
      "cell_type": "markdown",
      "metadata": {
        "id": "_R99pp1988nn"
      },
      "source": [
        "### Avaliação da IA com as Métricas"
      ]
    },
    {
      "cell_type": "markdown",
      "metadata": {
        "id": "D1eIq6YBcj2t"
      },
      "source": [
        "## Acessar o **ngrok**\n",
        "https://ngrok.com/\n",
        "\n",
        "![](https://cienciadosdados.com/images/2023/06/ngrok.png)\n",
        " **O ngrok** é uma ferramenta que permite criar um túnel seguro entre sua máquina local e a internet\n",
        "\n",
        " Ele não é uma solução de hospedagem permanente para implantar um aplicativo.\n",
        "\n",
        " É usado principalmente como uma ferramenta de desenvolvimento para fins de compartilhamento temporário.\n",
        "\n",
        "\n",
        "###**Passo-a-Passo**\n",
        "\n",
        "1° Passo: Download do Ngrok\n",
        "\n",
        "2° Passo: Instalação\n",
        "\n",
        "3° Acessar o Token"
      ]
    },
    {
      "cell_type": "code",
      "execution_count": null,
      "metadata": {
        "colab": {
          "base_uri": "https://localhost:8080/"
        },
        "id": "DvYU1dMj0-zD",
        "outputId": "7a2187ca-9313-459c-a594-f8e6bc23dbb4"
      },
      "outputs": [
        {
          "name": "stdout",
          "output_type": "stream",
          "text": [
            "Looking in indexes: https://pypi.org/simple, https://us-python.pkg.dev/colab-wheels/public/simple/\n",
            "Requirement already satisfied: streamlit in /usr/local/lib/python3.10/dist-packages (1.23.1)\n",
            "Requirement already satisfied: altair<6,>=4.0 in /usr/local/lib/python3.10/dist-packages (from streamlit) (4.2.2)\n",
            "Requirement already satisfied: blinker<2,>=1.0.0 in /usr/local/lib/python3.10/dist-packages (from streamlit) (1.6.2)\n",
            "Requirement already satisfied: cachetools<6,>=4.0 in /usr/local/lib/python3.10/dist-packages (from streamlit) (5.3.1)\n",
            "Requirement already satisfied: click<9,>=7.0 in /usr/local/lib/python3.10/dist-packages (from streamlit) (8.1.3)\n",
            "Requirement already satisfied: importlib-metadata<7,>=1.4 in /usr/local/lib/python3.10/dist-packages (from streamlit) (6.7.0)\n",
            "Requirement already satisfied: numpy<2,>=1 in /usr/local/lib/python3.10/dist-packages (from streamlit) (1.22.4)\n",
            "Requirement already satisfied: packaging<24,>=14.1 in /usr/local/lib/python3.10/dist-packages (from streamlit) (23.1)\n",
            "Requirement already satisfied: pandas<3,>=0.25 in /usr/local/lib/python3.10/dist-packages (from streamlit) (1.5.3)\n",
            "Requirement already satisfied: pillow<10,>=6.2.0 in /usr/local/lib/python3.10/dist-packages (from streamlit) (8.4.0)\n",
            "Requirement already satisfied: protobuf<5,>=3.20 in /usr/local/lib/python3.10/dist-packages (from streamlit) (3.20.3)\n",
            "Requirement already satisfied: pyarrow>=4.0 in /usr/local/lib/python3.10/dist-packages (from streamlit) (9.0.0)\n",
            "Requirement already satisfied: pympler<2,>=0.9 in /usr/local/lib/python3.10/dist-packages (from streamlit) (1.0.1)\n",
            "Requirement already satisfied: python-dateutil<3,>=2 in /usr/local/lib/python3.10/dist-packages (from streamlit) (2.8.2)\n",
            "Requirement already satisfied: requests<3,>=2.4 in /usr/local/lib/python3.10/dist-packages (from streamlit) (2.27.1)\n",
            "Requirement already satisfied: rich<14,>=10.11.0 in /usr/local/lib/python3.10/dist-packages (from streamlit) (13.4.2)\n",
            "Requirement already satisfied: tenacity<9,>=8.0.0 in /usr/local/lib/python3.10/dist-packages (from streamlit) (8.2.2)\n",
            "Requirement already satisfied: toml<2 in /usr/local/lib/python3.10/dist-packages (from streamlit) (0.10.2)\n",
            "Requirement already satisfied: typing-extensions<5,>=4.0.1 in /usr/local/lib/python3.10/dist-packages (from streamlit) (4.6.3)\n",
            "Requirement already satisfied: tzlocal<5,>=1.1 in /usr/local/lib/python3.10/dist-packages (from streamlit) (4.3.1)\n",
            "Requirement already satisfied: validators<1,>=0.2 in /usr/local/lib/python3.10/dist-packages (from streamlit) (0.20.0)\n",
            "Requirement already satisfied: gitpython!=3.1.19,<4,>=3 in /usr/local/lib/python3.10/dist-packages (from streamlit) (3.1.31)\n",
            "Requirement already satisfied: pydeck<1,>=0.1.dev5 in /usr/local/lib/python3.10/dist-packages (from streamlit) (0.8.1b0)\n",
            "Requirement already satisfied: tornado<7,>=6.0.3 in /usr/local/lib/python3.10/dist-packages (from streamlit) (6.3.1)\n",
            "Requirement already satisfied: watchdog in /usr/local/lib/python3.10/dist-packages (from streamlit) (3.0.0)\n",
            "Requirement already satisfied: entrypoints in /usr/local/lib/python3.10/dist-packages (from altair<6,>=4.0->streamlit) (0.4)\n",
            "Requirement already satisfied: jinja2 in /usr/local/lib/python3.10/dist-packages (from altair<6,>=4.0->streamlit) (3.1.2)\n",
            "Requirement already satisfied: jsonschema>=3.0 in /usr/local/lib/python3.10/dist-packages (from altair<6,>=4.0->streamlit) (4.3.3)\n",
            "Requirement already satisfied: toolz in /usr/local/lib/python3.10/dist-packages (from altair<6,>=4.0->streamlit) (0.12.0)\n",
            "Requirement already satisfied: gitdb<5,>=4.0.1 in /usr/local/lib/python3.10/dist-packages (from gitpython!=3.1.19,<4,>=3->streamlit) (4.0.10)\n",
            "Requirement already satisfied: zipp>=0.5 in /usr/local/lib/python3.10/dist-packages (from importlib-metadata<7,>=1.4->streamlit) (3.15.0)\n",
            "Requirement already satisfied: pytz>=2020.1 in /usr/local/lib/python3.10/dist-packages (from pandas<3,>=0.25->streamlit) (2022.7.1)\n",
            "Requirement already satisfied: six>=1.5 in /usr/local/lib/python3.10/dist-packages (from python-dateutil<3,>=2->streamlit) (1.16.0)\n",
            "Requirement already satisfied: urllib3<1.27,>=1.21.1 in /usr/local/lib/python3.10/dist-packages (from requests<3,>=2.4->streamlit) (1.26.16)\n",
            "Requirement already satisfied: certifi>=2017.4.17 in /usr/local/lib/python3.10/dist-packages (from requests<3,>=2.4->streamlit) (2023.5.7)\n",
            "Requirement already satisfied: charset-normalizer~=2.0.0 in /usr/local/lib/python3.10/dist-packages (from requests<3,>=2.4->streamlit) (2.0.12)\n",
            "Requirement already satisfied: idna<4,>=2.5 in /usr/local/lib/python3.10/dist-packages (from requests<3,>=2.4->streamlit) (3.4)\n",
            "Requirement already satisfied: markdown-it-py>=2.2.0 in /usr/local/lib/python3.10/dist-packages (from rich<14,>=10.11.0->streamlit) (3.0.0)\n",
            "Requirement already satisfied: pygments<3.0.0,>=2.13.0 in /usr/local/lib/python3.10/dist-packages (from rich<14,>=10.11.0->streamlit) (2.14.0)\n",
            "Requirement already satisfied: pytz-deprecation-shim in /usr/local/lib/python3.10/dist-packages (from tzlocal<5,>=1.1->streamlit) (0.1.0.post0)\n",
            "Requirement already satisfied: decorator>=3.4.0 in /usr/local/lib/python3.10/dist-packages (from validators<1,>=0.2->streamlit) (4.4.2)\n",
            "Requirement already satisfied: smmap<6,>=3.0.1 in /usr/local/lib/python3.10/dist-packages (from gitdb<5,>=4.0.1->gitpython!=3.1.19,<4,>=3->streamlit) (5.0.0)\n",
            "Requirement already satisfied: MarkupSafe>=2.0 in /usr/local/lib/python3.10/dist-packages (from jinja2->altair<6,>=4.0->streamlit) (2.1.3)\n",
            "Requirement already satisfied: attrs>=17.4.0 in /usr/local/lib/python3.10/dist-packages (from jsonschema>=3.0->altair<6,>=4.0->streamlit) (23.1.0)\n",
            "Requirement already satisfied: pyrsistent!=0.17.0,!=0.17.1,!=0.17.2,>=0.14.0 in /usr/local/lib/python3.10/dist-packages (from jsonschema>=3.0->altair<6,>=4.0->streamlit) (0.19.3)\n",
            "Requirement already satisfied: mdurl~=0.1 in /usr/local/lib/python3.10/dist-packages (from markdown-it-py>=2.2.0->rich<14,>=10.11.0->streamlit) (0.1.2)\n",
            "Requirement already satisfied: tzdata in /usr/local/lib/python3.10/dist-packages (from pytz-deprecation-shim->tzlocal<5,>=1.1->streamlit) (2023.3)\n",
            "Looking in indexes: https://pypi.org/simple, https://us-python.pkg.dev/colab-wheels/public/simple/\n",
            "Requirement already satisfied: pyngrok==4.1.1 in /usr/local/lib/python3.10/dist-packages (4.1.1)\n",
            "Requirement already satisfied: future in /usr/local/lib/python3.10/dist-packages (from pyngrok==4.1.1) (0.18.3)\n",
            "Requirement already satisfied: PyYAML in /usr/local/lib/python3.10/dist-packages (from pyngrok==4.1.1) (6.0)\n"
          ]
        }
      ],
      "source": [
        "#Instalação das Bibliotecas\n",
        "!pip install streamlit\n",
        "!pip install pyngrok==4.1.1"
      ]
    },
    {
      "cell_type": "markdown",
      "metadata": {
        "id": "AtXCGC40fYAF"
      },
      "source": [
        "##### Criação do script do app no streamlit"
      ]
    },
    {
      "cell_type": "code",
      "execution_count": null,
      "metadata": {
        "colab": {
          "base_uri": "https://localhost:8080/"
        },
        "id": "gWIVXcDQ4Oyn",
        "outputId": "b75a79c6-51ef-4a69-94ce-0a7897626b71"
      },
      "outputs": [
        {
          "name": "stdout",
          "output_type": "stream",
          "text": [
            "Overwriting streamlit_app.py\n"
          ]
        }
      ],
      "source": [
        "%%writefile streamlit_app.py\n",
        "import streamlit as st\n",
        "import pandas as pd\n",
        "import numpy as np\n",
        "import pickle\n",
        "\n",
        "def load_model():\n",
        "    with open('model.pkl', 'rb') as f:\n",
        "        data = pickle.load(f)\n",
        "    model = data['model']\n",
        "    preprocessor = data['preprocessor']\n",
        "    all_columns = data['columns']\n",
        "    return model, preprocessor, all_columns\n",
        "\n",
        "def predict(model, preprocessor, inputs, all_columns):\n",
        "    df = pd.DataFrame([inputs])\n",
        "    df = pd.DataFrame(preprocessor.transform(df), columns=all_columns)\n",
        "    prediction = model.predict(df)\n",
        "    return prediction\n",
        "\n",
        "model, preprocessor, all_columns = load_model()\n",
        "\n",
        "print(model)\n",
        "print(\"-------\")\n",
        "print(preprocessor)\n",
        "print(\"-------\")\n",
        "print(all_columns)\n",
        "\n",
        "#sys.exit(0)\n",
        "\n",
        "st.title('IA de Previsão de Vendas')\n",
        "st.write('Insira os dados abaixo:')\n",
        "\n",
        "inputs = {\n",
        "    'idade': st.slider('Idade', min_value=18, max_value=100, value=40),\n",
        "    'emprego': st.selectbox('Profissão', options=['gerente', 'técnico', 'empreendedor', 'trabalhador-manual', 'desconhecido', 'aposentado', 'administrativo', 'serviços', 'autônomo', 'desempregado', 'doméstica', 'estudante']),\n",
        "    'estado_civil': st.selectbox('Estado Civil', options=['casado', 'solteiro', 'divorciado']),\n",
        "    'educacao': st.selectbox('Educação', options=['terciário', 'secundário', 'desconhecido', 'primário']),\n",
        "    'padrao': st.selectbox('Inadimplente', options=['não', 'sim']),\n",
        "    'saldo': st.number_input('Saldo', min_value=-10000, max_value=100000, value=0),\n",
        "    'moradia': st.selectbox('Empréstimo Imobiliário', options=['sim', 'não']),\n",
        "    'emprestimo': st.selectbox('Empréstimo Pessoal', options=['sim', 'não']),\n",
        "    'contato': st.selectbox('Contato', options=['desconhecido', 'celular', 'telefone']),\n",
        "    'dia': st.slider('Dia', min_value=1, max_value=31, value=15),\n",
        "    'mes': st.selectbox('Mês', options=['maio', 'junho', 'julho', 'agosto', 'outubro', 'novembro', 'dezembro', 'janeiro', 'fevereiro', 'março', 'abril', 'setembro']),\n",
        "    'duracao': st.slider('Duração', min_value=1, max_value=5000, value=1000),\n",
        "    'campanha': st.slider('Campanha', min_value=1, max_value=100, value=10),\n",
        "    'dias_passados': st.slider('Dias Passados', min_value=-1, max_value=1000, value=-1),\n",
        "    'anterior': st.slider('Anterior', min_value=0, max_value=100, value=0),\n",
        "    'resultado_anterior': st.selectbox('Resultado Anterior', options=['desconhecido', 'fracasso', 'outro', 'sucesso'])\n",
        "}\n",
        "\n",
        "if st.button('Predict'):\n",
        "    prediction = predict(model, preprocessor, inputs, all_columns)\n",
        "    st.write('A previsão do modelo é:', 'sim' if prediction[0] == 1 else 'não')\n",
        "\n"
      ]
    },
    {
      "cell_type": "code",
      "execution_count": null,
      "metadata": {
        "colab": {
          "base_uri": "https://localhost:8080/"
        },
        "id": "tWsEXM7P1Nfs",
        "outputId": "90723b31-f226-45c9-b952-11c2e453839c"
      },
      "outputs": [
        {
          "name": "stdout",
          "output_type": "stream",
          "text": [
            "Authtoken saved to configuration file: /root/.ngrok2/ngrok.yml\n"
          ]
        }
      ],
      "source": [
        "# Token de segurança do Ngrok\n",
        "\n",
        "#original que já estava digitaeo\n",
        "#!ngrok authtoken \"2PsXeEYy7oOV5hgnF3UrRdDHwOB_5gmKKsHz23KdJHwEbtLWL\"\n",
        "\n",
        "#token que eu inclui, mas deu erro.\n",
        "#!ngrok authtoken \"2RcKuV5iQ18V3kmyfa3IP78OBDe_2d9jEyzh7VMMDE9M88tEV\"\n",
        "\n",
        "#token, apos o erro pesquisado no chatgpt e regerado o token e substituído aqui\n",
        "!ngrok authtoken \"2Rc9Nc6ZnATOwiUzPONQAm3Rss9_5Xjg23MetKXXBm7Kg2dYS\"\n"
      ]
    },
    {
      "cell_type": "code",
      "execution_count": null,
      "metadata": {
        "id": "WVgkOYoF0aqa"
      },
      "outputs": [],
      "source": [
        "# Execução do streamlit no Colab\n",
        "!streamlit run streamlit_app.py &>/dev/null&\n"
      ]
    },
    {
      "cell_type": "code",
      "execution_count": null,
      "metadata": {
        "colab": {
          "base_uri": "https://localhost:8080/"
        },
        "id": "1LJ5wbE10dl-",
        "outputId": "9401f69e-21fe-4d16-9d41-42265fe807c5"
      },
      "outputs": [
        {
          "name": "stdout",
          "output_type": "stream",
          "text": [
            "http://87b2-35-185-199-73.ngrok-free.app\n"
          ]
        }
      ],
      "source": [
        "# Criação da Porta de Conexão da sua máquina e a Internet\n",
        "from pyngrok import ngrok\n",
        "public_url = ngrok.connect(port='8501')\n",
        "print(public_url)\n",
        "\n",
        "!streamlit run --server.port 80 streamlit_app.py >/dev/null"
      ]
    },
    {
      "cell_type": "markdown",
      "metadata": {
        "id": "YpgjLfbZirGH"
      },
      "source": [
        "#Abaixo estão alguns testes que eu fiz, para verificar se encontro alguma condição com previsão = \"sim\".\n",
        "\n"
      ]
    },
    {
      "cell_type": "code",
      "execution_count": null,
      "metadata": {
        "colab": {
          "base_uri": "https://localhost:8080/",
          "height": 427
        },
        "id": "XaYdJP9h49Nj",
        "outputId": "6b003f9f-e955-4451-8356-9c89674fad4b"
      },
      "outputs": [
        {
          "data": {
            "text/html": [
              "\n",
              "  <div id=\"df-3d6f551e-2c3a-4087-b230-f355780d23db\">\n",
              "    <div class=\"colab-df-container\">\n",
              "      <div>\n",
              "<style scoped>\n",
              "    .dataframe tbody tr th:only-of-type {\n",
              "        vertical-align: middle;\n",
              "    }\n",
              "\n",
              "    .dataframe tbody tr th {\n",
              "        vertical-align: top;\n",
              "    }\n",
              "\n",
              "    .dataframe thead th {\n",
              "        text-align: right;\n",
              "    }\n",
              "</style>\n",
              "<table border=\"1\" class=\"dataframe\">\n",
              "  <thead>\n",
              "    <tr style=\"text-align: right;\">\n",
              "      <th></th>\n",
              "      <th>idade</th>\n",
              "      <th>emprego</th>\n",
              "      <th>estado_civil</th>\n",
              "      <th>educacao</th>\n",
              "      <th>padrao</th>\n",
              "      <th>saldo</th>\n",
              "      <th>moradia</th>\n",
              "      <th>emprestimo</th>\n",
              "      <th>contato</th>\n",
              "      <th>dia</th>\n",
              "      <th>mes</th>\n",
              "      <th>duracao</th>\n",
              "      <th>campanha</th>\n",
              "      <th>dias_passados</th>\n",
              "      <th>anterior</th>\n",
              "      <th>resultado_anterior</th>\n",
              "      <th>prevendas</th>\n",
              "    </tr>\n",
              "  </thead>\n",
              "  <tbody>\n",
              "    <tr>\n",
              "      <th>83</th>\n",
              "      <td>59</td>\n",
              "      <td>administrativo</td>\n",
              "      <td>casado</td>\n",
              "      <td>secundário</td>\n",
              "      <td>não</td>\n",
              "      <td>2343</td>\n",
              "      <td>sim</td>\n",
              "      <td>não</td>\n",
              "      <td>desconhecido</td>\n",
              "      <td>5</td>\n",
              "      <td>maio</td>\n",
              "      <td>1042</td>\n",
              "      <td>1</td>\n",
              "      <td>-1</td>\n",
              "      <td>0</td>\n",
              "      <td>desconhecido</td>\n",
              "      <td>sim</td>\n",
              "    </tr>\n",
              "    <tr>\n",
              "      <th>86</th>\n",
              "      <td>56</td>\n",
              "      <td>administrativo</td>\n",
              "      <td>casado</td>\n",
              "      <td>secundário</td>\n",
              "      <td>não</td>\n",
              "      <td>45</td>\n",
              "      <td>não</td>\n",
              "      <td>não</td>\n",
              "      <td>desconhecido</td>\n",
              "      <td>5</td>\n",
              "      <td>maio</td>\n",
              "      <td>1467</td>\n",
              "      <td>1</td>\n",
              "      <td>-1</td>\n",
              "      <td>0</td>\n",
              "      <td>desconhecido</td>\n",
              "      <td>sim</td>\n",
              "    </tr>\n",
              "    <tr>\n",
              "      <th>87</th>\n",
              "      <td>41</td>\n",
              "      <td>técnico</td>\n",
              "      <td>casado</td>\n",
              "      <td>secundário</td>\n",
              "      <td>não</td>\n",
              "      <td>1270</td>\n",
              "      <td>sim</td>\n",
              "      <td>não</td>\n",
              "      <td>desconhecido</td>\n",
              "      <td>5</td>\n",
              "      <td>maio</td>\n",
              "      <td>1389</td>\n",
              "      <td>1</td>\n",
              "      <td>-1</td>\n",
              "      <td>0</td>\n",
              "      <td>desconhecido</td>\n",
              "      <td>sim</td>\n",
              "    </tr>\n",
              "    <tr>\n",
              "      <th>129</th>\n",
              "      <td>55</td>\n",
              "      <td>serviços</td>\n",
              "      <td>casado</td>\n",
              "      <td>secundário</td>\n",
              "      <td>não</td>\n",
              "      <td>2476</td>\n",
              "      <td>sim</td>\n",
              "      <td>não</td>\n",
              "      <td>desconhecido</td>\n",
              "      <td>5</td>\n",
              "      <td>maio</td>\n",
              "      <td>579</td>\n",
              "      <td>1</td>\n",
              "      <td>-1</td>\n",
              "      <td>0</td>\n",
              "      <td>desconhecido</td>\n",
              "      <td>sim</td>\n",
              "    </tr>\n",
              "    <tr>\n",
              "      <th>168</th>\n",
              "      <td>54</td>\n",
              "      <td>administrativo</td>\n",
              "      <td>casado</td>\n",
              "      <td>terciário</td>\n",
              "      <td>não</td>\n",
              "      <td>184</td>\n",
              "      <td>não</td>\n",
              "      <td>não</td>\n",
              "      <td>desconhecido</td>\n",
              "      <td>5</td>\n",
              "      <td>maio</td>\n",
              "      <td>673</td>\n",
              "      <td>2</td>\n",
              "      <td>-1</td>\n",
              "      <td>0</td>\n",
              "      <td>desconhecido</td>\n",
              "      <td>sim</td>\n",
              "    </tr>\n",
              "    <tr>\n",
              "      <th>270</th>\n",
              "      <td>42</td>\n",
              "      <td>gerente</td>\n",
              "      <td>solteiro</td>\n",
              "      <td>terciário</td>\n",
              "      <td>não</td>\n",
              "      <td>0</td>\n",
              "      <td>sim</td>\n",
              "      <td>sim</td>\n",
              "      <td>desconhecido</td>\n",
              "      <td>5</td>\n",
              "      <td>maio</td>\n",
              "      <td>562</td>\n",
              "      <td>2</td>\n",
              "      <td>-1</td>\n",
              "      <td>0</td>\n",
              "      <td>desconhecido</td>\n",
              "      <td>sim</td>\n",
              "    </tr>\n",
              "    <tr>\n",
              "      <th>388</th>\n",
              "      <td>56</td>\n",
              "      <td>gerente</td>\n",
              "      <td>casado</td>\n",
              "      <td>terciário</td>\n",
              "      <td>não</td>\n",
              "      <td>830</td>\n",
              "      <td>sim</td>\n",
              "      <td>sim</td>\n",
              "      <td>desconhecido</td>\n",
              "      <td>6</td>\n",
              "      <td>maio</td>\n",
              "      <td>1201</td>\n",
              "      <td>1</td>\n",
              "      <td>-1</td>\n",
              "      <td>0</td>\n",
              "      <td>desconhecido</td>\n",
              "      <td>sim</td>\n",
              "    </tr>\n",
              "    <tr>\n",
              "      <th>390</th>\n",
              "      <td>60</td>\n",
              "      <td>aposentado</td>\n",
              "      <td>divorciado</td>\n",
              "      <td>secundário</td>\n",
              "      <td>não</td>\n",
              "      <td>545</td>\n",
              "      <td>sim</td>\n",
              "      <td>não</td>\n",
              "      <td>desconhecido</td>\n",
              "      <td>6</td>\n",
              "      <td>maio</td>\n",
              "      <td>1030</td>\n",
              "      <td>1</td>\n",
              "      <td>-1</td>\n",
              "      <td>0</td>\n",
              "      <td>desconhecido</td>\n",
              "      <td>sim</td>\n",
              "    </tr>\n",
              "    <tr>\n",
              "      <th>446</th>\n",
              "      <td>39</td>\n",
              "      <td>técnico</td>\n",
              "      <td>solteiro</td>\n",
              "      <td>desconhecido</td>\n",
              "      <td>não</td>\n",
              "      <td>45248</td>\n",
              "      <td>sim</td>\n",
              "      <td>não</td>\n",
              "      <td>desconhecido</td>\n",
              "      <td>6</td>\n",
              "      <td>maio</td>\n",
              "      <td>1623</td>\n",
              "      <td>1</td>\n",
              "      <td>-1</td>\n",
              "      <td>0</td>\n",
              "      <td>desconhecido</td>\n",
              "      <td>sim</td>\n",
              "    </tr>\n",
              "    <tr>\n",
              "      <th>457</th>\n",
              "      <td>37</td>\n",
              "      <td>técnico</td>\n",
              "      <td>casado</td>\n",
              "      <td>secundário</td>\n",
              "      <td>não</td>\n",
              "      <td>1</td>\n",
              "      <td>sim</td>\n",
              "      <td>não</td>\n",
              "      <td>desconhecido</td>\n",
              "      <td>6</td>\n",
              "      <td>maio</td>\n",
              "      <td>608</td>\n",
              "      <td>1</td>\n",
              "      <td>-1</td>\n",
              "      <td>0</td>\n",
              "      <td>desconhecido</td>\n",
              "      <td>sim</td>\n",
              "    </tr>\n",
              "  </tbody>\n",
              "</table>\n",
              "</div>\n",
              "      <button class=\"colab-df-convert\" onclick=\"convertToInteractive('df-3d6f551e-2c3a-4087-b230-f355780d23db')\"\n",
              "              title=\"Convert this dataframe to an interactive table.\"\n",
              "              style=\"display:none;\">\n",
              "        \n",
              "  <svg xmlns=\"http://www.w3.org/2000/svg\" height=\"24px\"viewBox=\"0 0 24 24\"\n",
              "       width=\"24px\">\n",
              "    <path d=\"M0 0h24v24H0V0z\" fill=\"none\"/>\n",
              "    <path d=\"M18.56 5.44l.94 2.06.94-2.06 2.06-.94-2.06-.94-.94-2.06-.94 2.06-2.06.94zm-11 1L8.5 8.5l.94-2.06 2.06-.94-2.06-.94L8.5 2.5l-.94 2.06-2.06.94zm10 10l.94 2.06.94-2.06 2.06-.94-2.06-.94-.94-2.06-.94 2.06-2.06.94z\"/><path d=\"M17.41 7.96l-1.37-1.37c-.4-.4-.92-.59-1.43-.59-.52 0-1.04.2-1.43.59L10.3 9.45l-7.72 7.72c-.78.78-.78 2.05 0 2.83L4 21.41c.39.39.9.59 1.41.59.51 0 1.02-.2 1.41-.59l7.78-7.78 2.81-2.81c.8-.78.8-2.07 0-2.86zM5.41 20L4 18.59l7.72-7.72 1.47 1.35L5.41 20z\"/>\n",
              "  </svg>\n",
              "      </button>\n",
              "      \n",
              "  <style>\n",
              "    .colab-df-container {\n",
              "      display:flex;\n",
              "      flex-wrap:wrap;\n",
              "      gap: 12px;\n",
              "    }\n",
              "\n",
              "    .colab-df-convert {\n",
              "      background-color: #E8F0FE;\n",
              "      border: none;\n",
              "      border-radius: 50%;\n",
              "      cursor: pointer;\n",
              "      display: none;\n",
              "      fill: #1967D2;\n",
              "      height: 32px;\n",
              "      padding: 0 0 0 0;\n",
              "      width: 32px;\n",
              "    }\n",
              "\n",
              "    .colab-df-convert:hover {\n",
              "      background-color: #E2EBFA;\n",
              "      box-shadow: 0px 1px 2px rgba(60, 64, 67, 0.3), 0px 1px 3px 1px rgba(60, 64, 67, 0.15);\n",
              "      fill: #174EA6;\n",
              "    }\n",
              "\n",
              "    [theme=dark] .colab-df-convert {\n",
              "      background-color: #3B4455;\n",
              "      fill: #D2E3FC;\n",
              "    }\n",
              "\n",
              "    [theme=dark] .colab-df-convert:hover {\n",
              "      background-color: #434B5C;\n",
              "      box-shadow: 0px 1px 3px 1px rgba(0, 0, 0, 0.15);\n",
              "      filter: drop-shadow(0px 1px 2px rgba(0, 0, 0, 0.3));\n",
              "      fill: #FFFFFF;\n",
              "    }\n",
              "  </style>\n",
              "\n",
              "      <script>\n",
              "        const buttonEl =\n",
              "          document.querySelector('#df-3d6f551e-2c3a-4087-b230-f355780d23db button.colab-df-convert');\n",
              "        buttonEl.style.display =\n",
              "          google.colab.kernel.accessAllowed ? 'block' : 'none';\n",
              "\n",
              "        async function convertToInteractive(key) {\n",
              "          const element = document.querySelector('#df-3d6f551e-2c3a-4087-b230-f355780d23db');\n",
              "          const dataTable =\n",
              "            await google.colab.kernel.invokeFunction('convertToInteractive',\n",
              "                                                     [key], {});\n",
              "          if (!dataTable) return;\n",
              "\n",
              "          const docLinkHtml = 'Like what you see? Visit the ' +\n",
              "            '<a target=\"_blank\" href=https://colab.research.google.com/notebooks/data_table.ipynb>data table notebook</a>'\n",
              "            + ' to learn more about interactive tables.';\n",
              "          element.innerHTML = '';\n",
              "          dataTable['output_type'] = 'display_data';\n",
              "          await google.colab.output.renderOutput(dataTable, element);\n",
              "          const docLink = document.createElement('div');\n",
              "          docLink.innerHTML = docLinkHtml;\n",
              "          element.appendChild(docLink);\n",
              "        }\n",
              "      </script>\n",
              "    </div>\n",
              "  </div>\n",
              "  "
            ],
            "text/plain": [
              "     idade         emprego estado_civil      educacao padrao  saldo moradia  \\\n",
              "83      59  administrativo       casado    secundário    não   2343     sim   \n",
              "86      56  administrativo       casado    secundário    não     45     não   \n",
              "87      41         técnico       casado    secundário    não   1270     sim   \n",
              "129     55        serviços       casado    secundário    não   2476     sim   \n",
              "168     54  administrativo       casado     terciário    não    184     não   \n",
              "270     42         gerente     solteiro     terciário    não      0     sim   \n",
              "388     56         gerente       casado     terciário    não    830     sim   \n",
              "390     60      aposentado   divorciado    secundário    não    545     sim   \n",
              "446     39         técnico     solteiro  desconhecido    não  45248     sim   \n",
              "457     37         técnico       casado    secundário    não      1     sim   \n",
              "\n",
              "    emprestimo       contato  dia   mes  duracao  campanha  dias_passados  \\\n",
              "83         não  desconhecido    5  maio     1042         1             -1   \n",
              "86         não  desconhecido    5  maio     1467         1             -1   \n",
              "87         não  desconhecido    5  maio     1389         1             -1   \n",
              "129        não  desconhecido    5  maio      579         1             -1   \n",
              "168        não  desconhecido    5  maio      673         2             -1   \n",
              "270        sim  desconhecido    5  maio      562         2             -1   \n",
              "388        sim  desconhecido    6  maio     1201         1             -1   \n",
              "390        não  desconhecido    6  maio     1030         1             -1   \n",
              "446        não  desconhecido    6  maio     1623         1             -1   \n",
              "457        não  desconhecido    6  maio      608         1             -1   \n",
              "\n",
              "     anterior resultado_anterior prevendas  \n",
              "83          0       desconhecido       sim  \n",
              "86          0       desconhecido       sim  \n",
              "87          0       desconhecido       sim  \n",
              "129         0       desconhecido       sim  \n",
              "168         0       desconhecido       sim  \n",
              "270         0       desconhecido       sim  \n",
              "388         0       desconhecido       sim  \n",
              "390         0       desconhecido       sim  \n",
              "446         0       desconhecido       sim  \n",
              "457         0       desconhecido       sim  "
            ]
          },
          "execution_count": 67,
          "metadata": {},
          "output_type": "execute_result"
        }
      ],
      "source": [
        "prev_sim = df.loc[(df['prevendas'] == 'sim')]\n",
        "\n",
        "prev_sim.head(10)\n",
        "\n",
        "#eu acho que não dá certo, pois podem ser que não estão no arquivo y_train.\n"
      ]
    },
    {
      "cell_type": "markdown",
      "metadata": {
        "id": "ejs2Qck67QFt"
      },
      "source": [
        "#copiei o resultado neste arquivo TEXTO.\n",
        "\n",
        "\n",
        "idade\temprego\testado_civil\teducacao\tpadrao\tsaldo\tmoradia\temprestimo\tcontato\tdia\tmes\tduracao\tcampanha\tdias_passados\tanterior\tresultado_anterior\tprevendas\n",
        "83\t59\tadministrativo\tcasado\tsecundário\tnão\t2343\tsim\tnão\tdesconhecido\t5\tmaio\t1042\t1\t-1\t0\tdesconhecido\tsim\n",
        "\n",
        "86\t56\tadministrativo\tcasado\tsecundário\tnão\t45\tnão\tnão\tdesconhecido\t5\tmaio\t1467\t1\t-1\t0\tdesconhecido\tsim\n",
        "\n",
        "87\t41\ttécnico\tcasado\tsecundário\tnão\t1270\tsim\tnão\tdesconhecido\t5\tmaio\t1389\t1\t-1\t0\tdesconhecido\tsim\n",
        "\n",
        "129\t55\tserviços\tcasado\tsecundário\tnão\t2476\tsim\tnão\tdesconhecido\t5\tmaio\t579\t1\t-1\t0\tdesconhecido\tsim\n",
        "\n",
        "168\t54\tadministrativo"
      ]
    },
    {
      "cell_type": "code",
      "execution_count": null,
      "metadata": {
        "colab": {
          "base_uri": "https://localhost:8080/"
        },
        "id": "DEf95rJVRxKE",
        "outputId": "bd486a09-783a-49b4-e128-09df4b1b0d55"
      },
      "outputs": [
        {
          "name": "stdout",
          "output_type": "stream",
          "text": [
            "3344     não\n",
            "17965    não\n",
            "18299    não\n",
            "10221    não\n",
            "32192    sim\n",
            "        ... \n",
            "11284    sim\n",
            "44732    não\n",
            "38158    não\n",
            "860      não\n",
            "15795    não\n",
            "Name: prevendas, Length: 36168, dtype: object\n"
          ]
        }
      ],
      "source": [
        "# irei selecionar algum registro com prevendas = \"sim\".\n",
        "# usarei o registro 32.192\n",
        "\n",
        "print(y_train)"
      ]
    },
    {
      "cell_type": "markdown",
      "metadata": {
        "id": "dvaKvwadhbe9"
      },
      "source": [
        "print(y_train)\n",
        "\n",
        "# copiei o resultado neste arquivo TEXTO:\n",
        "\n",
        "\n",
        "3344     não\n",
        "17965    não\n",
        "18299    não\n",
        "10221    não\n",
        "32192    sim\n",
        "        ...\n",
        "11284    sim\n",
        "44732    não\n",
        "38158    não\n",
        "860      não\n",
        "15795    não\n",
        "Name: prevendas, Length: 36168, dtype: object"
      ]
    },
    {
      "cell_type": "code",
      "execution_count": null,
      "metadata": {
        "colab": {
          "base_uri": "https://localhost:8080/"
        },
        "id": "dJq3maB5RwUB",
        "outputId": "50727485-24ea-489d-f5e2-163dc8d9f3d7"
      },
      "outputs": [
        {
          "name": "stdout",
          "output_type": "stream",
          "text": [
            "###\n"
          ]
        },
        {
          "data": {
            "text/plain": [
              "idade                           52\n",
              "emprego                   serviços\n",
              "estado_civil                casado\n",
              "educacao                 terciário\n",
              "padrao                         não\n",
              "saldo                         3094\n",
              "moradia                        sim\n",
              "emprestimo                     não\n",
              "contato                    celular\n",
              "dia                             17\n",
              "mes                       novembro\n",
              "duracao                         96\n",
              "campanha                         1\n",
              "dias_passados                   -1\n",
              "anterior                         0\n",
              "resultado_anterior    desconhecido\n",
              "Name: 24335, dtype: object"
            ]
          },
          "execution_count": 162,
          "metadata": {},
          "output_type": "execute_result"
        }
      ],
      "source": [
        "# selecionei o registro 32.192 do arquivo X_train. Digitei no aplicativo Ia de Previsão de Vendas.\n",
        "print(\"###\")\n",
        "X_train.iloc[32192]"
      ]
    },
    {
      "cell_type": "markdown",
      "metadata": {
        "id": "pLheY06ghok1"
      },
      "source": [
        "\n",
        "\n",
        "print(\"###\")\n",
        "X_train.iloc[32192]\n",
        "\n",
        "# copiei o resultado neste arquivo TEXTO:\n",
        "###\n",
        "idade                           52\n",
        "emprego                   serviços\n",
        "estado_civil                casado\n",
        "educacao                 terciário\n",
        "padrao                         não\n",
        "saldo                         3094\n",
        "moradia                        sim\n",
        "emprestimo                     não\n",
        "contato                    celular\n",
        "dia                             17\n",
        "mes                       novembro\n",
        "duracao                         96\n",
        "campanha                         1\n",
        "dias_passados                   -1\n",
        "anterior                         0\n",
        "resultado_anterior    desconhecido\n",
        "Name: 24335, dtype: object"
      ]
    },
    {
      "cell_type": "code",
      "execution_count": null,
      "metadata": {
        "id": "c2mbkRaaR2JW"
      },
      "outputs": [],
      "source": [
        ","
      ]
    },
    {
      "cell_type": "markdown",
      "metadata": {
        "id": "BZAnlbpvfu5f"
      },
      "source": [
        "##### É só o começo...\n",
        "##### Simbóra!"
      ]
    }
  ],
  "metadata": {
    "colab": {
      "collapsed_sections": [
        "H6eH92ooIb_E",
        "UBdmUt4_SREA"
      ],
      "provenance": [],
      "include_colab_link": true
    },
    "kernelspec": {
      "display_name": "Python 3",
      "name": "python3"
    },
    "language_info": {
      "codemirror_mode": {
        "name": "ipython",
        "version": 3
      },
      "file_extension": ".py",
      "mimetype": "text/x-python",
      "name": "python",
      "nbconvert_exporter": "python",
      "pygments_lexer": "ipython3",
      "version": "3.10.11"
    }
  },
  "nbformat": 4,
  "nbformat_minor": 0
}