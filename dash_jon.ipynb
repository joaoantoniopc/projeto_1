{
  "nbformat": 4,
  "nbformat_minor": 0,
  "metadata": {
    "colab": {
      "provenance": []
    },
    "kernelspec": {
      "name": "python3",
      "display_name": "Python 3"
    },
    "language_info": {
      "name": "python"
    }
  },
  "cells": [
    {
      "cell_type": "code",
      "execution_count": null,
      "metadata": {
        "id": "4-I-Zk4MysXU"
      },
      "outputs": [],
      "source": [
        "import pandas as pd\n",
        "\n",
        "\n",
        "# Ler o arquivo CSV e transformá-lo em um DataFrame\n",
        "df1 = pd.read_csv('/content/clientes.csv')\n",
        "\n",
        "# Convertendo colunas de string para datetime\n",
        "df1['dt_nascimento'] = pd.to_datetime(df1['dt_nascimento'], format='%Y-%m-%d')\n",
        "df1['dt_cadastro'] = pd.to_datetime(df1['dt_cadastro'], format='%Y-%m-%d')\n",
        "df1\n",
        "\n"
      ]
    },
    {
      "cell_type": "code",
      "source": [
        "df1.info()\n"
      ],
      "metadata": {
        "colab": {
          "base_uri": "https://localhost:8080/"
        },
        "id": "JKBsXvunzdL4",
        "outputId": "a67fe706-5832-4dab-99e8-f911497a1ea2"
      },
      "execution_count": 8,
      "outputs": [
        {
          "output_type": "stream",
          "name": "stdout",
          "text": [
            "<class 'pandas.core.frame.DataFrame'>\n",
            "RangeIndex: 25 entries, 0 to 24\n",
            "Data columns (total 11 columns):\n",
            " #   Column             Non-Null Count  Dtype         \n",
            "---  ------             --------------  -----         \n",
            " 0   id                 25 non-null     int64         \n",
            " 1   dt_nascimento      25 non-null     datetime64[ns]\n",
            " 2   dt_cadastro        25 non-null     datetime64[ns]\n",
            " 3   de_sexo            25 non-null     object        \n",
            " 4   nm_nome_oficial    25 non-null     object        \n",
            " 5   cd_uf_estado       25 non-null     object        \n",
            " 6   id_ibge_municipio  25 non-null     int64         \n",
            " 7   cd_cep             25 non-null     int64         \n",
            " 8   cd_pais            25 non-null     object        \n",
            " 9   de_logradouro      25 non-null     object        \n",
            " 10  nm_bairro          23 non-null     object        \n",
            "dtypes: datetime64[ns](2), int64(3), object(6)\n",
            "memory usage: 2.3+ KB\n"
          ]
        }
      ]
    },
    {
      "cell_type": "code",
      "source": [
        "import pandas as pd\n",
        "\n",
        "\n",
        "# Ler o arquivo CSV e transformá-lo em um DataFrame\n",
        "df2 = pd.read_csv('/content/vendas.csv')\n",
        "\n",
        "# Convertendo a coluna de string para datetime\n",
        "df2['dt_venda'] = pd.to_datetime(df2['dt_venda'], format='%Y-%m-%d')\n",
        "\n",
        "df2"
      ],
      "metadata": {
        "id": "gnzCFCPwy-0U"
      },
      "execution_count": null,
      "outputs": []
    },
    {
      "cell_type": "code",
      "source": [
        "df2.info()"
      ],
      "metadata": {
        "colab": {
          "base_uri": "https://localhost:8080/"
        },
        "id": "x5-3Pee0zQOK",
        "outputId": "24c36234-706d-47a1-8c14-102610d07ed7"
      },
      "execution_count": 9,
      "outputs": [
        {
          "output_type": "stream",
          "name": "stdout",
          "text": [
            "<class 'pandas.core.frame.DataFrame'>\n",
            "RangeIndex: 39 entries, 0 to 38\n",
            "Data columns (total 4 columns):\n",
            " #   Column          Non-Null Count  Dtype         \n",
            "---  ------          --------------  -----         \n",
            " 0   id              39 non-null     int64         \n",
            " 1   dt_venda        39 non-null     datetime64[ns]\n",
            " 2   no_medicamento  39 non-null     object        \n",
            " 3   vl_preco        39 non-null     int64         \n",
            "dtypes: datetime64[ns](1), int64(2), object(1)\n",
            "memory usage: 1.3+ KB\n"
          ]
        }
      ]
    },
    {
      "cell_type": "code",
      "source": [
        "import pandas as pd\n",
        "\n",
        "# Supondo que df1 e df2 são seus DataFrames\n",
        "\n",
        "# Realizando o merge\n",
        "merged_df = pd.merge(df1, df2, on='id', how='outer', suffixes=('_df1', '_df2'))\n",
        "\n",
        "# Verificando e removendo possíveis duplicatas\n",
        "merged_df = merged_df.drop_duplicates()\n"
      ],
      "metadata": {
        "id": "F_PidykJzkn3"
      },
      "execution_count": 10,
      "outputs": []
    },
    {
      "cell_type": "code",
      "source": [
        "merged_df"
      ],
      "metadata": {
        "id": "55qoRVwG0w_9"
      },
      "execution_count": null,
      "outputs": []
    },
    {
      "cell_type": "code",
      "source": [
        "import pandas as pd\n",
        "\n",
        "# Supondo que df seja o seu DataFrame\n",
        "\n",
        "# Filtrando o DataFrame onde id é igual a um valor específico\n",
        "id_filtrado = 6455\n",
        "df_filtrado = merged_df.loc[merged_df['id'] == id_filtrado]\n",
        "df_filtrado"
      ],
      "metadata": {
        "id": "iI-bIyfd0zfO"
      },
      "execution_count": null,
      "outputs": []
    },
    {
      "cell_type": "code",
      "source": [
        "merged_df.info()"
      ],
      "metadata": {
        "id": "B-wXjIAI1NhO"
      },
      "execution_count": null,
      "outputs": []
    },
    {
      "cell_type": "code",
      "source": [
        "# Agrupando por data de venda e somando os preços\n",
        "sumario_vendas = merged_df.groupby('dt_venda')['vl_preco'].sum().reset_index()\n",
        "\n",
        "# Ordenando o resultado por data de venda\n",
        "sumario_vendas = sumario_vendas.sort_values(by='dt_venda')\n",
        "\n",
        "# Exibindo o resultado\n",
        "print(sumario_vendas)\n"
      ],
      "metadata": {
        "id": "BNQCSXoQ1r68"
      },
      "execution_count": null,
      "outputs": []
    },
    {
      "cell_type": "code",
      "source": [
        "sumario_vendas"
      ],
      "metadata": {
        "id": "GpuFrEYG2J2w"
      },
      "execution_count": null,
      "outputs": []
    },
    {
      "cell_type": "code",
      "source": [
        "df = merged_df"
      ],
      "metadata": {
        "id": "pQTLIOPi2jEh"
      },
      "execution_count": 21,
      "outputs": []
    },
    {
      "cell_type": "code",
      "source": [
        "import pandas as pd\n",
        "\n",
        "# Supondo que df seja o seu DataFrame com as vendas\n",
        "\n",
        "# Extraindo ano e mês da coluna dt_venda\n",
        "df['ano'] = df['dt_venda'].dt.year\n",
        "df['mes'] = df['dt_venda'].dt.month\n",
        "\n",
        "# Agrupando por ano e mês e somando os preços\n",
        "sumario_vendas_mes = df.groupby(['ano', 'mes'])['vl_preco'].sum().reset_index()\n",
        "\n",
        "# Ordenando o resultado por ano e mês\n",
        "sumario_vendas_mes = sumario_vendas_mes.sort_values(by=['ano', 'mes'])\n",
        "\n",
        "# Exibindo o resultado\n",
        "print(sumario_vendas_mes)\n"
      ],
      "metadata": {
        "id": "sre4d1M52KIW"
      },
      "execution_count": null,
      "outputs": []
    },
    {
      "cell_type": "code",
      "source": [
        "import pandas as pd\n",
        "\n",
        "# Supondo que df seja o seu DataFrame com as vendas\n",
        "\n",
        "# Agrupando por produto e somando os preços e quantidades (se disponível)\n",
        "sumario_produtos = df.groupby('no_medicamento')['vl_preco'].sum().reset_index()\n",
        "\n",
        "# Ordenando o resultado por preço de forma descendente\n",
        "produtos_mais_vendidos = sumario_produtos.sort_values(by='vl_preco', ascending=False)\n",
        "\n",
        "# Exibindo o resultado\n",
        "print(produtos_mais_vendidos)\n"
      ],
      "metadata": {
        "id": "hWRyvhQe2dRE"
      },
      "execution_count": null,
      "outputs": []
    },
    {
      "cell_type": "code",
      "source": [
        "import pandas as pd\n",
        "# Exportando o DataFrame para um arquivo CSV\n",
        "\n",
        "merged_df.to_csv('df.csv', index=False, encoding='utf-8')\n"
      ],
      "metadata": {
        "id": "PxUt2qBa28Vh"
      },
      "execution_count": 24,
      "outputs": []
    },
    {
      "cell_type": "code",
      "source": [
        "df.info()"
      ],
      "metadata": {
        "colab": {
          "base_uri": "https://localhost:8080/"
        },
        "id": "TK0uZq1a4BFL",
        "outputId": "1f841a14-457f-4374-cb97-5e8ed7869d62"
      },
      "execution_count": 26,
      "outputs": [
        {
          "output_type": "stream",
          "name": "stdout",
          "text": [
            "<class 'pandas.core.frame.DataFrame'>\n",
            "Int64Index: 29 entries, 0 to 46\n",
            "Data columns (total 16 columns):\n",
            " #   Column             Non-Null Count  Dtype         \n",
            "---  ------             --------------  -----         \n",
            " 0   id                 29 non-null     int64         \n",
            " 1   dt_nascimento      29 non-null     datetime64[ns]\n",
            " 2   dt_cadastro        29 non-null     datetime64[ns]\n",
            " 3   de_sexo            29 non-null     object        \n",
            " 4   nm_nome_oficial    29 non-null     object        \n",
            " 5   cd_uf_estado       29 non-null     object        \n",
            " 6   id_ibge_municipio  29 non-null     int64         \n",
            " 7   cd_cep             29 non-null     int64         \n",
            " 8   cd_pais            29 non-null     object        \n",
            " 9   de_logradouro      29 non-null     object        \n",
            " 10  nm_bairro          25 non-null     object        \n",
            " 11  dt_venda           21 non-null     datetime64[ns]\n",
            " 12  no_medicamento     21 non-null     object        \n",
            " 13  vl_preco           21 non-null     float64       \n",
            " 14  ano                21 non-null     float64       \n",
            " 15  mes                21 non-null     float64       \n",
            "dtypes: datetime64[ns](3), float64(3), int64(3), object(7)\n",
            "memory usage: 3.9+ KB\n"
          ]
        }
      ]
    },
    {
      "cell_type": "code",
      "source": [],
      "metadata": {
        "id": "rFL6M4BU4ByP"
      },
      "execution_count": null,
      "outputs": []
    }
  ]
}